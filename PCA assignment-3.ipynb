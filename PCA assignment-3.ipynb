{
 "cells": [
  {
   "cell_type": "markdown",
   "id": "399413ce-134d-4fbf-9957-a81ef6502f19",
   "metadata": {},
   "source": [
    "Eigenvalue and eigenvectors are concepts in linear alegbra that are closely related to the eigen decmpostion apporach.\n",
    "1. Eigenvalues: Eigenvalues are sclar value that reprsent how a linear transformation ,reprsented by a matrix strectes or contracts space along its eigenvectors in simple terms they tell us how much the eigenvector are scaled \n",
    "when they are transformed by the matrix.\n",
    "2. Eigenvectors:Eigenvectors are non-zero vector that are only scaled by a matrix during a linear transformation.They are direction vectors that remain in the same direction after transformation although they might change in magnitiude.Eigenvectors are reprsented"
   ]
  },
  {
   "cell_type": "markdown",
   "id": "ec71c7e1-54b1-4a3e-9c90-4e4feaff1447",
   "metadata": {},
   "source": [
    "Eigen decompostion also know as eigendecmpostion is a fundamental conceptt in linear algebra where a square matrix is decmposed into of eigenvectors and eigenvalues.Mathematicallyy for an n*n matrix A eigen decmpostion is reprsented as :\n",
    "1. Diagonalization\n",
    "2. Understanding Linear Transformation\n",
    "3. Principal Component Analysis\n",
    "4. Spectral Analysis\n",
    "5. Application in Physics and Engineering"
   ]
  },
  {
   "cell_type": "markdown",
   "id": "5c71c74f-8ced-45bd-8c04-52c87d5d50eb",
   "metadata": {},
   "source": [
    "To diagonalize a square matrix using the Eigen decpostion as Eigendecmpostion the following condtions must be stasfied:\n",
    "1. The matrix must be square\n",
    "2. The matrix must have n linearly\n",
    "3. The matrix must be diagonalize"
   ]
  },
  {
   "cell_type": "markdown",
   "id": "688f06c6-663c-4a75-a06f-ebe955bb8787",
   "metadata": {},
   "source": [
    "In the context of the spectral thereom and the ease and decmpostion apporach ,the signficance lies in undestandiing\n",
    "how matrices can be decmposed into simpler forms to facilate anylasyuis and compuation the spectral therom states that for certain classes of matrices paricularly hermitain matrices in case of complex vector spaces or symmteric matrices in the case of real vector spaces there exist an orthognal basis of eigenvectors this threom allows us to dioganlize such matrices meaning we can express them in terms of a diaognal matrix whose entries correpond to the eigenvaluates of the orginal matrix"
   ]
  },
  {
   "cell_type": "markdown",
   "id": "3304f234-d7f0-4899-9c95-24da4f4c8495",
   "metadata": {},
   "source": [
    "To find the eigenvalues of a matrix you need to solve the charterstics equation where is the matrix reprsent the eigenvalues and is the identify matrix of he same size as.Eigenvalues reprsent sclar values that scale eigenvectors when the matrix is applied is applied as a linear tranformation in other words they indicate how much the eigenvectors are strenched or compressed by the linear tranformation reprsented by the matrix Each eigenvalue correpond to a specfic eigenvector and together they capture the behevaiour of the linear tranformation in diffrent direction in the vector space"
   ]
  },
  {
   "cell_type": "markdown",
   "id": "f37ebe9c-2221-4dd0-807e-3f625a29e01d",
   "metadata": {},
   "source": [
    "Eigenvectors are nonzero vector that when operated on by a square matrix only change in magnitiude not direction in other word an eigenvector of a matrix statics the equation.Where is a sclar know as the eigenvalue correponding to that the eigenvalue correponding to that eigenvector.Eigenvectors are related in the sense that for eacg eigenvalue a matrix there exist a correponding eigenvector.The eigenvector reprsent the sclar when the matrix is applied"
   ]
  }
 ],
 "metadata": {
  "kernelspec": {
   "display_name": "Python 3 (ipykernel)",
   "language": "python",
   "name": "python3"
  },
  "language_info": {
   "codemirror_mode": {
    "name": "ipython",
    "version": 3
   },
   "file_extension": ".py",
   "mimetype": "text/x-python",
   "name": "python",
   "nbconvert_exporter": "python",
   "pygments_lexer": "ipython3",
   "version": "3.10.8"
  }
 },
 "nbformat": 4,
 "nbformat_minor": 5
}
